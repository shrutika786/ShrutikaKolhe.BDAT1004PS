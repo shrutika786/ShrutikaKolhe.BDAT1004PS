{
  "metadata": {
    "language_info": {
      "codemirror_mode": {
        "name": "python",
        "version": 3
      },
      "file_extension": ".py",
      "mimetype": "text/x-python",
      "name": "python",
      "nbconvert_exporter": "python",
      "pygments_lexer": "ipython3",
      "version": "3.8"
    },
    "kernelspec": {
      "name": "python",
      "display_name": "Python (Pyodide)",
      "language": "python"
    }
  },
  "nbformat_minor": 4,
  "nbformat": 4,
  "cells": [
    {
      "cell_type": "code",
      "source": "Q.No.1. What data type is each of the following?\na. 5 => integer \nb. 5.0 => float \nc. 5>1 => bool \nd. \"5\" => string \ne. 52 => integer \nf. \"5\"2 =>string \ng. \"5\" + \"2\" => string \nh. 5/2 => float \ni. 5%2 => integer \nj. {5,2,1} => array \nk. 5==3 => boolean \nl. pi(the number) => float",
      "metadata": {},
      "execution_count": null,
      "outputs": []
    }
  ]
}