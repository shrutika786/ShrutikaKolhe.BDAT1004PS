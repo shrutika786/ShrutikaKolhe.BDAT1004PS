{
 "cells": [
  {
   "cell_type": "code",
   "execution_count": null,
   "id": "3c3465fb",
   "metadata": {},
   "outputs": [],
   "source": [
    "Q6)You can turn a word into pig-Latin using the following two rules (simplified): \n",
    "• If the word starts with a consonant, move that letter to the end and append 'ay'. For example, 'happy' becomes 'appyhay' and 'pencil' becomes 'encilpay'. \n",
    "• If the word starts with a vowel, simply append 'way' to the end of the word. For example, 'enter' becomes 'enterway' and 'other' becomes 'otherway' . For our purposes, there are 5 vowels: a, e, i, o, u (so we count y as a consonant). \n",
    "Write a function pig() that takes a word (i.e., a string) as input and returns its pig- Latin form. Your function should still work if the input word contains upper case characters. Your output should always be lower case however."
   ]
  },
  {
   "cell_type": "code",
   "execution_count": 21,
   "id": "d2799b5b",
   "metadata": {},
   "outputs": [],
   "source": [
    "# list of vowels\n",
    "vowels = ['a','e','i','o','u']\n",
    "def pig(word):\n",
    "    \n",
    "    #checking if the word starts with vowel or not\n",
    "    if word[0].lower() in vowels:\n",
    "        print(word.lower() + 'way')\n",
    "    else:\n",
    "        first_letter = word[0]\n",
    "        print(word[1:].lower()+first_letter.lower()+'ay')"
   ]
  },
  {
   "cell_type": "code",
   "execution_count": null,
   "id": "13cb8cc3",
   "metadata": {},
   "outputs": [],
   "source": [
    "Q7)File bloodtype1.txt records blood-types of patients (A, B, AB, O or OO) at a clinic. Write a function bldcount() that reads the file with name name and reports (i.e., prints) how many patients there are in each bloodtype."
   ]
  },
  {
   "cell_type": "code",
   "execution_count": 1,
   "id": "37b3d0b1",
   "metadata": {},
   "outputs": [],
   "source": [
    "def bldcount(bloodtype1):\n",
    "    \n",
    "    #reading the file\n",
    "    x = open(bloodtype1,'r')\n",
    "    words = x.readline()\n",
    "    lst = []\n",
    "    blood_types = ['A','B','AB','O','OO']\n",
    "    \n",
    "    #Spliting the words and storing them in a list\n",
    "    lst.append(words.split(\" \"))\n",
    "    \n",
    "    #checking the count for each blood type\n",
    "    for blood_type in blood_types:\n",
    "        print(\"There are {} patients of blood type {}.\".format(lst[0].count(blood_type),blood_type))"
   ]
  },
  {
   "cell_type": "code",
   "execution_count": 4,
   "id": "b6ce8d91",
   "metadata": {},
   "outputs": [
    {
     "name": "stdout",
     "output_type": "stream",
     "text": [
      "There are 0 patients of blood type A.\n",
      "There are 0 patients of blood type B.\n",
      "There are 0 patients of blood type AB.\n",
      "There are 0 patients of blood type O.\n",
      "There are 0 patients of blood type OO.\n"
     ]
    }
   ],
   "source": [
    "bldcount('bloodtype1.rtf')"
   ]
  },
  {
   "cell_type": "code",
   "execution_count": null,
   "id": "ba50cfb8",
   "metadata": {},
   "outputs": [],
   "source": [
    "Q8)Write a function curconv() that takes as input: \n",
    "\n",
    "a currency represented using a string (e.g., 'JPY' for the Japanese Yen or 'EUR' for the Euro) \n",
    "an amount \n",
    "and then converts and returns the amount in US dollars."
   ]
  },
  {
   "cell_type": "code",
   "execution_count": 17,
   "id": "5be75686",
   "metadata": {},
   "outputs": [],
   "source": [
    "def curconv(currency1,amount):\n",
    "    currencies = {}\n",
    "    \n",
    "    #reading the file\n",
    "    cur_file = open('currrency1.rtf')\n",
    "    lines = cur_file.readlines()\n",
    "    \n",
    "    #storing the currency in the key and it's corresponding $ value and name in value.\n",
    "    for x in lines:\n",
    "        currencies[x[:3].strip()] = x[4:].split(\"\\t\")\n",
    "    value = currencies[currency1][0].strip()\n",
    "    print(amount * float(value))"
   ]
  },
  {
   "cell_type": "code",
   "execution_count": 18,
   "id": "8b1065f6",
   "metadata": {},
   "outputs": [
    {
     "name": "stdout",
     "output_type": "stream",
     "text": [
      "122.96544\n"
     ]
    }
   ],
   "source": [
    "curconv('EUR', 100)"
   ]
  },
  {
   "cell_type": "code",
   "execution_count": null,
   "id": "803a4600",
   "metadata": {},
   "outputs": [],
   "source": [
    "Q9) Each of the following will cause an exception (an error). Identify what type of exception each will cause.\n",
    "\n",
    "Solution : \n",
    "Error\tError Message\n",
    "Trying to add incompatible variables, as in adding 6 + ‘a’\tUnsupported type\n",
    "Referring to the 12th item of a list that has only 10 items\tOut of index\n",
    "Using a value that is out of range for a function’s input, such as calling math.sqrt(-1.0)\tdomain error\n",
    "Using an undeclared variable, such as print(x) when x has not been defined\tvariable not defined\n",
    "Trying to open a file that does not exist, such as mistyping the file name or looking in the wrong directory.\tNo such directory found\n"
   ]
  },
  {
   "cell_type": "code",
   "execution_count": 22,
   "id": "731e335e",
   "metadata": {},
   "outputs": [
    {
     "ename": "TypeError",
     "evalue": "unsupported operand type(s) for +: 'int' and 'str'",
     "output_type": "error",
     "traceback": [
      "\u001b[0;31m---------------------------------------------------------------------------\u001b[0m",
      "\u001b[0;31mTypeError\u001b[0m                                 Traceback (most recent call last)",
      "Input \u001b[0;32mIn [22]\u001b[0m, in \u001b[0;36m<cell line: 1>\u001b[0;34m()\u001b[0m\n\u001b[0;32m----> 1\u001b[0m \u001b[38;5;241;43m6\u001b[39;49m\u001b[43m \u001b[49m\u001b[38;5;241;43m+\u001b[39;49m\u001b[43m \u001b[49m\u001b[38;5;124;43m'\u001b[39;49m\u001b[38;5;124;43ma\u001b[39;49m\u001b[38;5;124;43m'\u001b[39;49m\n",
      "\u001b[0;31mTypeError\u001b[0m: unsupported operand type(s) for +: 'int' and 'str'"
     ]
    }
   ],
   "source": [
    "6 + 'a'"
   ]
  },
  {
   "cell_type": "code",
   "execution_count": 23,
   "id": "2d97f50e",
   "metadata": {},
   "outputs": [
    {
     "ename": "IndexError",
     "evalue": "list index out of range",
     "output_type": "error",
     "traceback": [
      "\u001b[0;31m---------------------------------------------------------------------------\u001b[0m",
      "\u001b[0;31mIndexError\u001b[0m                                Traceback (most recent call last)",
      "Input \u001b[0;32mIn [23]\u001b[0m, in \u001b[0;36m<cell line: 3>\u001b[0;34m()\u001b[0m\n\u001b[1;32m      1\u001b[0m \u001b[38;5;28mlist\u001b[39m \u001b[38;5;241m=\u001b[39m [\u001b[38;5;241m1\u001b[39m,\u001b[38;5;241m2\u001b[39m,\u001b[38;5;241m3\u001b[39m,\u001b[38;5;241m4\u001b[39m,\u001b[38;5;241m5\u001b[39m,\u001b[38;5;241m6\u001b[39m,\u001b[38;5;241m7\u001b[39m,\u001b[38;5;241m8\u001b[39m,\u001b[38;5;241m9\u001b[39m,\u001b[38;5;241m10\u001b[39m]\n\u001b[0;32m----> 3\u001b[0m show \u001b[38;5;241m=\u001b[39m \u001b[38;5;28;43mlist\u001b[39;49m\u001b[43m[\u001b[49m\u001b[38;5;241;43m12\u001b[39;49m\u001b[43m]\u001b[49m\n\u001b[1;32m      4\u001b[0m \u001b[38;5;28mprint\u001b[39m(show)\n",
      "\u001b[0;31mIndexError\u001b[0m: list index out of range"
     ]
    }
   ],
   "source": [
    "list = [1,2,3,4,5,6,7,8,9,10]\n",
    "\n",
    "show = list[12]\n",
    "print(show)"
   ]
  },
  {
   "cell_type": "code",
   "execution_count": 24,
   "id": "7f12ab74",
   "metadata": {},
   "outputs": [
    {
     "ename": "ValueError",
     "evalue": "math domain error",
     "output_type": "error",
     "traceback": [
      "\u001b[0;31m---------------------------------------------------------------------------\u001b[0m",
      "\u001b[0;31mValueError\u001b[0m                                Traceback (most recent call last)",
      "Input \u001b[0;32mIn [24]\u001b[0m, in \u001b[0;36m<cell line: 2>\u001b[0;34m()\u001b[0m\n\u001b[1;32m      1\u001b[0m \u001b[38;5;28;01mimport\u001b[39;00m \u001b[38;5;21;01mmath\u001b[39;00m\n\u001b[0;32m----> 2\u001b[0m \u001b[43mmath\u001b[49m\u001b[38;5;241;43m.\u001b[39;49m\u001b[43msqrt\u001b[49m\u001b[43m(\u001b[49m\u001b[38;5;241;43m-\u001b[39;49m\u001b[38;5;241;43m1.0\u001b[39;49m\u001b[43m)\u001b[49m\n",
      "\u001b[0;31mValueError\u001b[0m: math domain error"
     ]
    }
   ],
   "source": [
    "import math\n",
    "math.sqrt(-1.0)"
   ]
  },
  {
   "cell_type": "code",
   "execution_count": 25,
   "id": "4386ad33",
   "metadata": {},
   "outputs": [
    {
     "ename": "NameError",
     "evalue": "name 'x' is not defined",
     "output_type": "error",
     "traceback": [
      "\u001b[0;31m---------------------------------------------------------------------------\u001b[0m",
      "\u001b[0;31mNameError\u001b[0m                                 Traceback (most recent call last)",
      "Input \u001b[0;32mIn [25]\u001b[0m, in \u001b[0;36m<cell line: 2>\u001b[0;34m()\u001b[0m\n\u001b[1;32m      1\u001b[0m \u001b[38;5;28mstr\u001b[39m \u001b[38;5;241m=\u001b[39m \u001b[38;5;124m'\u001b[39m\u001b[38;5;124mData Programming\u001b[39m\u001b[38;5;124m'\u001b[39m\n\u001b[0;32m----> 2\u001b[0m \u001b[38;5;28mprint\u001b[39m(\u001b[43mx\u001b[49m)\n",
      "\u001b[0;31mNameError\u001b[0m: name 'x' is not defined"
     ]
    }
   ],
   "source": [
    "str = 'Data Programming'\n",
    "print(x)"
   ]
  },
  {
   "cell_type": "code",
   "execution_count": 26,
   "id": "3bf27f31",
   "metadata": {},
   "outputs": [
    {
     "ename": "FileNotFoundError",
     "evalue": "[Errno 2] No such file or directory: 'dataprogramming.txt'",
     "output_type": "error",
     "traceback": [
      "\u001b[0;31m---------------------------------------------------------------------------\u001b[0m",
      "\u001b[0;31mFileNotFoundError\u001b[0m                         Traceback (most recent call last)",
      "Input \u001b[0;32mIn [26]\u001b[0m, in \u001b[0;36m<cell line: 1>\u001b[0;34m()\u001b[0m\n\u001b[0;32m----> 1\u001b[0m f \u001b[38;5;241m=\u001b[39m \u001b[38;5;28;43mopen\u001b[39;49m\u001b[43m(\u001b[49m\u001b[38;5;124;43m\"\u001b[39;49m\u001b[38;5;124;43mdataprogramming.txt\u001b[39;49m\u001b[38;5;124;43m\"\u001b[39;49m\u001b[43m)\u001b[49m\n",
      "\u001b[0;31mFileNotFoundError\u001b[0m: [Errno 2] No such file or directory: 'dataprogramming.txt'"
     ]
    }
   ],
   "source": [
    "f = open(\"dataprogramming.txt\")"
   ]
  },
  {
   "cell_type": "code",
   "execution_count": null,
   "id": "e555f900",
   "metadata": {},
   "outputs": [],
   "source": [
    "Q.No.10 Encryption is the process of hiding the meaning of a text by substituting letters in the message with other letters, according to some system. If the process is successful, no one but the intended recipient can understand the encrypted message. Cryptanalysis refers to attempts to undo the encryption, even if some details of the encryption are unknown (for example, if an encrypted message has been intercepted). The first step of cryptanalysis is often to build up a table of letter frequencies in the encrypted text. Assume that the string letters is already defined as 'abcdefghijklmnopqrstuvwxyz'. Write a function called frequencies() that takes a string as its only parameter, and returns a list of integers, showing the number of times each character appears in the text. Your function may ignore any characters that are not in letters."
   ]
  },
  {
   "cell_type": "code",
   "execution_count": 29,
   "id": "c1fb1e4f",
   "metadata": {},
   "outputs": [],
   "source": [
    "def frequencies(text):\n",
    "    \n",
    "    #set of alphabets\n",
    "    alphabets = ('a','b','c','d','e','f','g','h','i','j','k','l','m','n','o','p','q','r','s','t','u','v','w','x','y','z')\n",
    "    total_characters = []\n",
    "    alpha_dict = {}\n",
    "    #picking character from every word of input and appending it to total_character list.\n",
    "    for word in text:\n",
    "        for char in word:\n",
    "            if char.isalpha():\n",
    "                total_characters.append(char)\n",
    "    #checking if the alphabet is present in the total_character list than assigning it it's count otherwise 0\n",
    "    for char in alphabets:\n",
    "        if char in total_characters:\n",
    "            alpha_dict[char] = total_characters.count(char)\n",
    "        else:\n",
    "            alpha_dict[char] = 0\n",
    "            \n",
    "    #printing out the values(count) of the alphabets present in the total_character list\n",
    "    print(list(alpha_dict.values()))"
   ]
  },
  {
   "cell_type": "code",
   "execution_count": 30,
   "id": "56eda378",
   "metadata": {},
   "outputs": [
    {
     "ename": "TypeError",
     "evalue": "'list' object is not callable",
     "output_type": "error",
     "traceback": [
      "\u001b[0;31m---------------------------------------------------------------------------\u001b[0m",
      "\u001b[0;31mTypeError\u001b[0m                                 Traceback (most recent call last)",
      "Input \u001b[0;32mIn [30]\u001b[0m, in \u001b[0;36m<cell line: 1>\u001b[0;34m()\u001b[0m\n\u001b[0;32m----> 1\u001b[0m \u001b[43mfrequencies\u001b[49m\u001b[43m(\u001b[49m\u001b[38;5;124;43m'\u001b[39;49m\u001b[38;5;124;43mThe quick red fox got bored and went home.\u001b[39;49m\u001b[38;5;124;43m'\u001b[39;49m\u001b[43m)\u001b[49m\n",
      "Input \u001b[0;32mIn [29]\u001b[0m, in \u001b[0;36mfrequencies\u001b[0;34m(text)\u001b[0m\n\u001b[1;32m     17\u001b[0m         alpha_dict[char] \u001b[38;5;241m=\u001b[39m \u001b[38;5;241m0\u001b[39m\n\u001b[1;32m     19\u001b[0m \u001b[38;5;66;03m#printing out the values(count) of the alphabets present in the total_character list\u001b[39;00m\n\u001b[0;32m---> 20\u001b[0m \u001b[38;5;28mprint\u001b[39m(\u001b[38;5;28;43mlist\u001b[39;49m\u001b[43m(\u001b[49m\u001b[43malpha_dict\u001b[49m\u001b[38;5;241;43m.\u001b[39;49m\u001b[43mvalues\u001b[49m\u001b[43m(\u001b[49m\u001b[43m)\u001b[49m\u001b[43m)\u001b[49m)\n",
      "\u001b[0;31mTypeError\u001b[0m: 'list' object is not callable"
     ]
    }
   ],
   "source": [
    "frequencies('The quick red fox got bored and went home.')"
   ]
  },
  {
   "cell_type": "code",
   "execution_count": null,
   "id": "cc56f685",
   "metadata": {},
   "outputs": [],
   "source": []
  }
 ],
 "metadata": {
  "kernelspec": {
   "display_name": "Python 3 (ipykernel)",
   "language": "python",
   "name": "python3"
  },
  "language_info": {
   "codemirror_mode": {
    "name": "ipython",
    "version": 3
   },
   "file_extension": ".py",
   "mimetype": "text/x-python",
   "name": "python",
   "nbconvert_exporter": "python",
   "pygments_lexer": "ipython3",
   "version": "3.9.12"
  }
 },
 "nbformat": 4,
 "nbformat_minor": 5
}
