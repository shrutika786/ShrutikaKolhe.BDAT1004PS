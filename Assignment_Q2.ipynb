{
  "metadata": {
    "language_info": {
      "codemirror_mode": {
        "name": "python",
        "version": 3
      },
      "file_extension": ".py",
      "mimetype": "text/x-python",
      "name": "python",
      "nbconvert_exporter": "python",
      "pygments_lexer": "ipython3",
      "version": "3.8"
    },
    "kernelspec": {
      "name": "python",
      "display_name": "Python (Pyodide)",
      "language": "python"
    }
  },
  "nbformat_minor": 4,
  "nbformat": 4,
  "cells": [
    {
      "cell_type": "code",
      "source": "Q.No.2. Write (and evaluate) C# expressions that answer these questions: a. How many letters are there in 'Supercalifragilisticexpialidocious'?",
      "metadata": {},
      "execution_count": null,
      "outputs": []
    },
    {
      "cell_type": "code",
      "source": "\nstring = 'Supercalifragilisticexpialidocious';\nlength = len(string);\nprint(\"There are\" ,length, \"letters in Supercalifragilisticexpialidocious.\")",
      "metadata": {
        "trusted": true
      },
      "execution_count": 1,
      "outputs": [
        {
          "name": "stdout",
          "text": "There are 34 letters in Supercalifragilisticexpialidocious.\n",
          "output_type": "stream"
        }
      ]
    },
    {
      "cell_type": "code",
      "source": "   b.Does 'Supercalifragilisticexpialidocious' contain 'ice' as a substring?",
      "metadata": {},
      "execution_count": null,
      "outputs": []
    },
    {
      "cell_type": "code",
      "source": "string1 = 'Supercalifragilisticexpialidocious';\nif 'ice' in string1:\n    print(\"True\")\nelse:\n    print(\"False\")",
      "metadata": {
        "trusted": true
      },
      "execution_count": 2,
      "outputs": [
        {
          "name": "stdout",
          "text": "True\n",
          "output_type": "stream"
        }
      ]
    },
    {
      "cell_type": "code",
      "source": "c. Which of the following words is the longest: Supercalifragilisticexpialidocious, Honorificabilitudinitatibus, or Bababadalgharaghtakamminarronnkonn?",
      "metadata": {},
      "execution_count": null,
      "outputs": []
    },
    {
      "cell_type": "code",
      "source": "string1 = 'Supercalifragilisticexpialidocious';\nstring2 = 'Honorificabilitudinitatibus';\nstring3 = 'Bababadalgharaghtakamminarronnkonn';\nif len(string1) >= len(string2) and len(string1) >=len(string3):\n    print('Supercalifragilisticexpialidocious is longest word')\n    \nelif len(string2) >= len(string1) and len(string2) >= len(string3):\n    print('Honorificabilitudinitatibus is longest word')\n    \nelse:\n    print('Bababadalgharaghtakamminarronnkonn is longest word')",
      "metadata": {
        "trusted": true
      },
      "execution_count": 3,
      "outputs": [
        {
          "name": "stdout",
          "text": "Supercalifragilisticexpialidocious is longest word\n",
          "output_type": "stream"
        }
      ]
    },
    {
      "cell_type": "code",
      "source": ". Which composer comes first in the dictionary: 'Berlioz', 'Borodin', 'Brian', 'Bartok', 'Bellini', 'Buxtehude', 'Bernstein'. Which one comes last?",
      "metadata": {},
      "execution_count": null,
      "outputs": []
    },
    {
      "cell_type": "code",
      "source": "composersDictionary = ['Berlioz', 'Borodin','Brian', 'Bartok', 'Bellini', 'Buxtehude', 'Bernstein']\ncomposersDictionary.sort() \nprint(composersDictionary[0], \"comes first in the dictionary.\")\nprint(composersDictionary[6], \"comes last in the dictionary.\")",
      "metadata": {
        "trusted": true
      },
      "execution_count": 4,
      "outputs": [
        {
          "name": "stdout",
          "text": "Bartok comes first in the dictionary.\nBuxtehude comes last in the dictionary.\n",
          "output_type": "stream"
        }
      ]
    },
    {
      "cell_type": "code",
      "source": "",
      "metadata": {},
      "execution_count": null,
      "outputs": []
    }
  ]
}