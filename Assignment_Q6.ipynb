{
 "cells": [
  {
   "cell_type": "code",
   "execution_count": null,
   "id": "d9520ff3",
   "metadata": {},
   "outputs": [],
   "source": [
    "Q.No.6 You can turn a word into pig-Latin using the following two rules(simplified): • If the word starts with a consonant, move that letter to the end and append 'ay'. For example, 'happy' becomes 'appyhay' and 'pencil' becomes 'encilpay'. • If the word starts with a vowel, simply append 'way' to the end of the word. For example, 'enter' becomes 'enterway' and 'other' becomes 'otherway' . For our purposes, there are 5 vowels: a, e, i, o, u (so we count y as a consonant). Write a function pig() that takes a word (i.e., a string) as input and returns its pigLatin form. Your function should still work if the input word contains upper case characters. Your output should always be lower case however.\n",
    "pig('happy') 'appyhay' pig('Enter') 'enterway'"
   ]
  },
  {
   "cell_type": "code",
   "execution_count": 2,
   "id": "54fef681",
   "metadata": {},
   "outputs": [
    {
     "name": "stdout",
     "output_type": "stream",
     "text": [
      "Enter a word : egg\n",
      "eggway\n"
     ]
    }
   ],
   "source": [
    "vowels = ['a','e','i','o','u']\n",
    "def pig():\n",
    "    string = input(\"Enter a word : \")\n",
    "    string = string.lower()\n",
    "    if string[0] in vowels:\n",
    "        string +=  'way'\n",
    "        print (string)\n",
    "    else:\n",
    "        result = string[1:]\n",
    "        result = result + string[0] + 'ay'\n",
    "        print(result)\n",
    "pig()"
   ]
  },
  {
   "cell_type": "code",
   "execution_count": null,
   "id": "fd4456d7",
   "metadata": {},
   "outputs": [],
   "source": []
  }
 ],
 "metadata": {
  "kernelspec": {
   "display_name": "Python 3 (ipykernel)",
   "language": "python",
   "name": "python3"
  },
  "language_info": {
   "codemirror_mode": {
    "name": "ipython",
    "version": 3
   },
   "file_extension": ".py",
   "mimetype": "text/x-python",
   "name": "python",
   "nbconvert_exporter": "python",
   "pygments_lexer": "ipython3",
   "version": "3.9.12"
  }
 },
 "nbformat": 4,
 "nbformat_minor": 5
}
