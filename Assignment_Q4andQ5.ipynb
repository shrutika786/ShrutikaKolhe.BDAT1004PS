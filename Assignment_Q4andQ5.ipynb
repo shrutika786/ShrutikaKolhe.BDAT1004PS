{
 "cells": [
  {
   "cell_type": "code",
   "execution_count": null,
   "id": "a85ff744",
   "metadata": {},
   "outputs": [],
   "source": [
    "Q.4 Write a program in C# Sharp to separate odd and even integers in separate arrays."
   ]
  },
  {
   "cell_type": "code",
   "execution_count": 1,
   "id": "f97355a1",
   "metadata": {},
   "outputs": [
    {
     "name": "stdout",
     "output_type": "stream",
     "text": [
      "Enter the first element:24\n",
      "Enter the second element:56\n",
      "Enter the third element:33\n",
      "Enter the fourth element:77\n",
      "Enter the fifth element:99\n",
      "Even numbers are [24, 56]\n",
      "Odd nunmbers are [33, 77, 99]\n"
     ]
    }
   ],
   "source": [
    "firstElement = int(input('Enter the first element:'))\n",
    "secondElement = int(input('Enter the second element:'))\n",
    "thirdElement = int(input('Enter the third element:'))\n",
    "fourthElement = int(input('Enter the fourth element:'))\n",
    "fifthElement = int(input('Enter the fifth element:'))\n",
    "\n",
    "list = [firstElement, secondElement, thirdElement, fourthElement, fifthElement]\n",
    "listOfEven  = []\n",
    "listOfOdd = []\n",
    "\n",
    "for i in list:\n",
    "    if i%2==0:\n",
    "        listOfEven.append(i)\n",
    "    \n",
    "    else:\n",
    "        listOfOdd.append(i)\n",
    "        \n",
    "print('Even numbers are', listOfEven)\n",
    "print('Odd nunmbers are', listOfOdd)"
   ]
  },
  {
   "cell_type": "code",
   "execution_count": null,
   "id": "e6b0dce5",
   "metadata": {},
   "outputs": [],
   "source": [
    "Q.5 a. Write a function inside(x,y,x1,y1,x2,y2) that returns True or False depending on whether the point(x,y)lies in the rectangle with lower left corner (x1,y1) and upper right corner (x2,y2).\n",
    "inside(1,1,0,0,2,3) True inside(-1,-1,0,0,2,3) False"
   ]
  },
  {
   "cell_type": "code",
   "execution_count": 2,
   "id": "5e7072b5",
   "metadata": {},
   "outputs": [
    {
     "name": "stdout",
     "output_type": "stream",
     "text": [
      "Enter x: 1\n",
      "Enter y: 1\n",
      "Enter x1: 0\n",
      "Enter y1: 2\n",
      "Enter x2: 5\n",
      "Enter y2: 2\n",
      "False\n"
     ]
    }
   ],
   "source": [
    "x = int(input(\"Enter x: \"))\n",
    "y = int(input(\"Enter y: \"))\n",
    "x1 = int(input(\"Enter x1: \"))\n",
    "y1 = int(input(\"Enter y1: \"))\n",
    "x2 = int(input(\"Enter x2: \"))\n",
    "y2 = int(input(\"Enter y2: \"))\n",
    "\n",
    "def inside(x,y,x1,y1,x2,y2):\n",
    "    \n",
    "    if(x > x1 and x < x2) and (y > y1 and y < y2):\n",
    "        print('True')\n",
    "        \n",
    "    else:\n",
    "        print('False')\n",
    "        \n",
    "inside(x,y,x1,y1,x2,y2)"
   ]
  },
  {
   "cell_type": "code",
   "execution_count": null,
   "id": "5d7c8323",
   "metadata": {},
   "outputs": [],
   "source": [
    "Q.No.5 b. Use function inside()from part a. to write an expression that tests whether the point (1,1) lies in both of the following rectangles: one with lower left corner (0.3, 0.5) and upper right corner (1.1, 0.7) and the other with lower left corner (0.5, 0.2) and upper right corner (1.1, 2)."
   ]
  },
  {
   "cell_type": "code",
   "execution_count": 3,
   "id": "bcc58447",
   "metadata": {},
   "outputs": [
    {
     "name": "stdout",
     "output_type": "stream",
     "text": [
      "False\n"
     ]
    }
   ],
   "source": [
    "inside(1,1,0.3,0.5,1.1,0.7)"
   ]
  },
  {
   "cell_type": "code",
   "execution_count": 4,
   "id": "7fcfc70f",
   "metadata": {},
   "outputs": [
    {
     "name": "stdout",
     "output_type": "stream",
     "text": [
      "True\n"
     ]
    }
   ],
   "source": [
    "inside(1,1,0.5,0.2,1.1,2)"
   ]
  },
  {
   "cell_type": "code",
   "execution_count": null,
   "id": "fd14462b",
   "metadata": {},
   "outputs": [],
   "source": []
  }
 ],
 "metadata": {
  "kernelspec": {
   "display_name": "Python 3 (ipykernel)",
   "language": "python",
   "name": "python3"
  },
  "language_info": {
   "codemirror_mode": {
    "name": "ipython",
    "version": 3
   },
   "file_extension": ".py",
   "mimetype": "text/x-python",
   "name": "python",
   "nbconvert_exporter": "python",
   "pygments_lexer": "ipython3",
   "version": "3.9.12"
  }
 },
 "nbformat": 4,
 "nbformat_minor": 5
}
